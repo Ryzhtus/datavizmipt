{
 "metadata": {
  "language_info": {
   "codemirror_mode": {
    "name": "ipython",
    "version": 3
   },
   "file_extension": ".py",
   "mimetype": "text/x-python",
   "name": "python",
   "nbconvert_exporter": "python",
   "pygments_lexer": "ipython3",
   "version": "3.8.0-final"
  },
  "orig_nbformat": 2,
  "kernelspec": {
   "name": "python38064bit342b2d62f7794dc18ccc35f134af38b3",
   "display_name": "Python 3.8.0 64-bit",
   "language": "python"
  }
 },
 "nbformat": 4,
 "nbformat_minor": 2,
 "cells": [
  {
   "cell_type": "code",
   "execution_count": null,
   "metadata": {},
   "outputs": [],
   "source": [
    "!git clone https://github.com/Ryzhtus/datavizmipt"
   ]
  },
  {
   "cell_type": "code",
   "execution_count": null,
   "metadata": {},
   "outputs": [],
   "source": [
    "!pip install pygraphml\n",
    "!pip install networkx"
   ]
  },
  {
   "cell_type": "code",
   "execution_count": 161,
   "metadata": {},
   "outputs": [],
   "source": [
    "%matplotlib inline\n",
    "\n",
    "import numpy as np\n",
    "import networkx as nx\n",
    "import matplotlib.pyplot as plt\n",
    "\n",
    "from scipy.optimize import linprog"
   ]
  },
  {
   "cell_type": "code",
   "execution_count": 190,
   "metadata": {},
   "outputs": [],
   "source": [
    "def coffman_graham(graph: nx.DiGraph, width: int, return_layers: bool):\n",
    "    # step 1: topological sort\n",
    "    pi = {node: i for i, node in enumerate(list(nx.lexicographical_topological_sort(graph)))}\n",
    "\n",
    "    # step 2: greedy layering\n",
    "    V = set(graph.nodes())\n",
    "    U = set()\n",
    "    L = [set()]\n",
    "    \n",
    "    while len(U) != len(graph.nodes()):\n",
    "        u = None\n",
    "        pi_u = -float('inf')\n",
    "\n",
    "        for node in V:\n",
    "            if set(nx.neighbors(graph, node)):\n",
    "                subset_bool = set(nx.neighbors(graph, node)) <= U\n",
    "            else: \n",
    "                subset_bool = True\n",
    "\n",
    "            if subset_bool and pi[node] > pi_u:\n",
    "                u = node\n",
    "                pi_u = pi[node]\n",
    "\n",
    "        if len(L[-1]) == width or bool(set(nx.neighbors(graph, u)).intersection(L[-1])):\n",
    "            L.append(set())\n",
    "            \n",
    "        L[-1].add(u)\n",
    "        V.remove(u)\n",
    "        U.add(u)\n",
    "\n",
    "    for layer_number, layer in enumerate(L):\n",
    "        for node_number, node in enumerate(layer):\n",
    "            graph.nodes[node]['x'] = node_number\n",
    "            graph.nodes[node]['y'] = layer_number\n",
    "\n",
    "\n",
    "def dummy_verticies(graph: nx.DiGraph, return_layers: bool):\n",
    "    A = []\n",
    "    b = [-1 for edge in list(graph.edges())]\n",
    "    c = [0 for node in list(graph.nodes())]\n",
    "    \n",
    "    for edge in list(graph.edges()):\n",
    "        coefficients = [0 for node in list(graph.nodes())]\n",
    "        coefficients[int(edge[0][1:])] = -1\n",
    "        coefficients[int(edge[1][1:])] = 1\n",
    "        c[int(edge[0][1:])] += 1\n",
    "        c[int(edge[1][1:])] -= 1\n",
    "        A.append(coefficients)\n",
    "\n",
    "    bounds = [(0, float('inf')) for node in list(graph.nodes())]\n",
    "    \n",
    "    result = linprog(c=c, A_ub=A, b_ub=b, bounds=bounds, method='revised simplex')['x']\n",
    "\n",
    "    L = [set() for layer in range(int(max(result)) + 1)]\n",
    "\n",
    "    for layer_number, layer in enumerate(result):\n",
    "         L[int(result[layer_number])].add(list(graph.nodes())[layer_number])\n",
    "    \n",
    "    if return_layers:\n",
    "        for layer_number, layer in enumerate(L):\n",
    "            for node_number, node in enumerate(layer):\n",
    "                graph.nodes[node]['y'] = layer_number\n",
    "        \n",
    "        return L\n",
    "    else:\n",
    "        for layer_number, layer in enumerate(L):\n",
    "            for node_number, node in enumerate(layer):\n",
    "                graph.nodes[node]['x'] = node_number\n",
    "                graph.nodes[node]['y'] = layer_number\n",
    "\n",
    "def add(graph: nx.DiGraph, L: list):\n",
    "    dummy_id = 0\n",
    "\n",
    "    for edge in list(graph.edges()):\n",
    "        if graph.nodes[edge[0]]['y'] - graph.nodes[edge[1]]['y'] > 1:\n",
    "            node_start, node_end = edge[0], edge[1]\n",
    "            y_start, y_end = graph.nodes[edge[0]]['y'], graph.nodes[edge[1]]['y']\n",
    "            graph.remove_edge(node_start, node_end)\n",
    "\n",
    "            for layer_number in range(y_start - 1, y_end, -1):\n",
    "                name = 'd' + str(dummy_id)\n",
    "                L[layer_number].add(name)\n",
    "                dummy_id += 1\n",
    "\n",
    "                graph.add_node(name)\n",
    "                graph.add_edge(node_start, name)\n",
    "\n",
    "                node_start = name\n",
    "\n",
    "            graph.add_edge(node_start, node_end)\n",
    "    \n",
    "    for layer_number, layer in enumerate(L):\n",
    "            for node_number, node in enumerate(layer):\n",
    "                graph.nodes[node]['x'] = node_number\n",
    "                graph.nodes[node]['y'] = layer_number\n",
    "\n",
    "def reduce_crossings(graph: nx.DiGraph):\n",
    "    pass"
   ]
  },
  {
   "cell_type": "code",
   "execution_count": 224,
   "metadata": {},
   "outputs": [],
   "source": [
    "def draw(graph_path: str, width: int) -> None:\n",
    "    graph = nx.read_graphml(graph_path)\n",
    "    \n",
    "    if width is not None:\n",
    "        L = coffman_graham(graph, width, return_layers=True)\n",
    "    else:\n",
    "        L = dummy_verticies(graph, return_layers=True)\n",
    "    \n",
    "    add(graph, L)\n",
    "    \n",
    "    coordinates = {}\n",
    "    node_sizes = []\n",
    "    for node in list(graph.nodes):\n",
    "        coordinates[node] = (graph.nodes[node]['x'], graph.nodes[node]['y'])\n",
    "        if node[0] == 'd':\n",
    "            node_sizes.append(0)\n",
    "        else:\n",
    "            node_sizes.append(300)\n",
    "\n",
    "\n",
    "    plt.figure(figsize=(5, 5))\n",
    "    nx.draw(graph, pos=coordinates, with_labels=False, node_size=node_sizes)"
   ]
  },
  {
   "cell_type": "code",
   "execution_count": 226,
   "metadata": {},
   "outputs": [
    {
     "output_type": "display_data",
     "data": {
      "text/plain": "<Figure size 360x360 with 1 Axes>",
      "image/svg+xml": "<?xml version=\"1.0\" encoding=\"utf-8\" standalone=\"no\"?>\r\n<!DOCTYPE svg PUBLIC \"-//W3C//DTD SVG 1.1//EN\"\r\n  \"http://www.w3.org/Graphics/SVG/1.1/DTD/svg11.dtd\">\r\n<!-- Created with matplotlib (https://matplotlib.org/) -->\r\n<svg height=\"374.4pt\" version=\"1.1\" viewBox=\"0 0 374.4 374.4\" width=\"374.4pt\" xmlns=\"http://www.w3.org/2000/svg\" xmlns:xlink=\"http://www.w3.org/1999/xlink\">\r\n <defs>\r\n  <style type=\"text/css\">\r\n*{stroke-linecap:butt;stroke-linejoin:round;}\r\n  </style>\r\n </defs>\r\n <g id=\"figure_1\">\r\n  <g id=\"patch_1\">\r\n   <path d=\"M 0 374.4 \r\nL 374.4 374.4 \r\nL 374.4 -0 \r\nL 0 -0 \r\nz\r\n\" style=\"fill:#ffffff;\"/>\r\n  </g>\r\n  <g id=\"axes_1\">\r\n   <g id=\"patch_2\">\r\n    <path clip-path=\"url(#p378ec177d9)\" d=\"M 38.439669 47.101617 \r\nQ 38.439669 68.192249 38.439669 88.164846 \r\n\" style=\"fill:none;stroke:#000000;stroke-linecap:round;\"/>\r\n    <path clip-path=\"url(#p378ec177d9)\" d=\"M 40.439669 84.164846 \r\nL 38.439669 88.164846 \r\nL 36.439669 84.164846 \r\nL 40.439669 84.164846 \r\nz\r\n\" style=\"stroke:#000000;stroke-linecap:round;\"/>\r\n   </g>\r\n   <g id=\"patch_3\">\r\n    <path clip-path=\"url(#p378ec177d9)\" d=\"M 46.479664 101.1598 \r\nQ 112.818085 127.695168 178.118438 153.815309 \r\n\" style=\"fill:none;stroke:#000000;stroke-linecap:round;\"/>\r\n    <path clip-path=\"url(#p378ec177d9)\" d=\"M 175.147313 150.472793 \r\nL 178.118438 153.815309 \r\nL 173.66175 154.1867 \r\nL 175.147313 150.472793 \r\nz\r\n\" style=\"stroke:#000000;stroke-linecap:round;\"/>\r\n   </g>\r\n   <g id=\"patch_4\">\r\n    <path clip-path=\"url(#p378ec177d9)\" d=\"M 46.933645 99.642597 \r\nQ 191.446988 128.545265 334.864008 157.228669 \r\n\" style=\"fill:none;stroke:#000000;stroke-linecap:round;\"/>\r\n    <path clip-path=\"url(#p378ec177d9)\" d=\"M 331.333918 154.483043 \r\nL 334.864008 157.228669 \r\nL 330.549453 158.405366 \r\nL 331.333918 154.483043 \r\nz\r\n\" style=\"stroke:#000000;stroke-linecap:round;\"/>\r\n   </g>\r\n   <g id=\"patch_5\">\r\n    <path clip-path=\"url(#p378ec177d9)\" d=\"M 179.160005 160.663932 \r\nQ 112.821584 187.1993 47.521231 213.319441 \r\n\" style=\"fill:none;stroke:#000000;stroke-linecap:round;\"/>\r\n    <path clip-path=\"url(#p378ec177d9)\" d=\"M 51.977919 213.690832 \r\nL 47.521231 213.319441 \r\nL 50.492357 209.976925 \r\nL 51.977919 213.690832 \r\nz\r\n\" style=\"stroke:#000000;stroke-linecap:round;\"/>\r\n   </g>\r\n   <g id=\"patch_6\">\r\n    <path clip-path=\"url(#p378ec177d9)\" d=\"M 46.479664 160.663932 \r\nQ 112.818085 187.1993 178.118438 213.319441 \r\n\" style=\"fill:none;stroke:#000000;stroke-linecap:round;\"/>\r\n    <path clip-path=\"url(#p378ec177d9)\" d=\"M 175.147313 209.976925 \r\nL 178.118438 213.319441 \r\nL 173.66175 213.690832 \r\nL 175.147313 209.976925 \r\nz\r\n\" style=\"stroke:#000000;stroke-linecap:round;\"/>\r\n   </g>\r\n   <g id=\"patch_7\">\r\n    <path clip-path=\"url(#p378ec177d9)\" d=\"M 179.160005 220.168064 \r\nQ 112.821584 246.703433 47.521231 272.823574 \r\n\" style=\"fill:none;stroke:#000000;stroke-linecap:round;\"/>\r\n    <path clip-path=\"url(#p378ec177d9)\" d=\"M 51.977919 273.194964 \r\nL 47.521231 272.823574 \r\nL 50.492357 269.481058 \r\nL 51.977919 273.194964 \r\nz\r\n\" style=\"stroke:#000000;stroke-linecap:round;\"/>\r\n   </g>\r\n   <g id=\"patch_8\">\r\n    <path clip-path=\"url(#p378ec177d9)\" d=\"M 46.479664 220.168064 \r\nQ 112.818085 246.703433 178.118438 272.823574 \r\n\" style=\"fill:none;stroke:#000000;stroke-linecap:round;\"/>\r\n    <path clip-path=\"url(#p378ec177d9)\" d=\"M 175.147313 269.481058 \r\nL 178.118438 272.823574 \r\nL 173.66175 273.194964 \r\nL 175.147313 269.481058 \r\nz\r\n\" style=\"stroke:#000000;stroke-linecap:round;\"/>\r\n   </g>\r\n   <g id=\"patch_9\">\r\n    <path clip-path=\"url(#p378ec177d9)\" d=\"M 38.439669 225.614014 \r\nQ 38.439669 246.704646 38.439669 266.677243 \r\n\" style=\"fill:none;stroke:#000000;stroke-linecap:round;\"/>\r\n    <path clip-path=\"url(#p378ec177d9)\" d=\"M 40.439669 262.677243 \r\nL 38.439669 266.677243 \r\nL 36.439669 262.677243 \r\nL 40.439669 262.677243 \r\nz\r\n\" style=\"stroke:#000000;stroke-linecap:round;\"/>\r\n   </g>\r\n   <g id=\"patch_10\">\r\n    <path clip-path=\"url(#p378ec177d9)\" d=\"M 38.439669 285.118146 \r\nQ 38.439669 306.208778 38.439669 326.181375 \r\n\" style=\"fill:none;stroke:#000000;stroke-linecap:round;\"/>\r\n    <path clip-path=\"url(#p378ec177d9)\" d=\"M 40.439669 322.181375 \r\nL 38.439669 326.181375 \r\nL 36.439669 322.181375 \r\nL 40.439669 322.181375 \r\nz\r\n\" style=\"stroke:#000000;stroke-linecap:round;\"/>\r\n   </g>\r\n   <g id=\"patch_11\">\r\n    <path clip-path=\"url(#p378ec177d9)\" d=\"M 335.960331 157.447934 \r\nQ 265.600163 185.592001 196.278063 213.320841 \r\n\" style=\"fill:none;stroke:#000000;stroke-linecap:round;\"/>\r\n    <path clip-path=\"url(#p378ec177d9)\" d=\"M 200.734751 213.692232 \r\nL 196.278063 213.320841 \r\nL 199.249189 209.978325 \r\nL 200.734751 213.692232 \r\nz\r\n\" style=\"stroke:#000000;stroke-linecap:round;\"/>\r\n   </g>\r\n   <g id=\"PathCollection_1\">\r\n    <path clip-path=\"url(#p378ec177d9)\" d=\"M 38.439669 47.099923 \r\nC 40.736396 47.099923 42.939363 46.187424 44.563394 44.563394 \r\nC 46.187424 42.939363 47.099923 40.736396 47.099923 38.439669 \r\nC 47.099923 36.142943 46.187424 33.939976 44.563394 32.315945 \r\nC 42.939363 30.691914 40.736396 29.779415 38.439669 29.779415 \r\nC 36.142943 29.779415 33.939976 30.691914 32.315945 32.315945 \r\nC 30.691914 33.939976 29.779415 36.142943 29.779415 38.439669 \r\nC 29.779415 40.736396 30.691914 42.939363 32.315945 44.563394 \r\nC 33.939976 46.187424 36.142943 47.099923 38.439669 47.099923 \r\nz\r\n\" style=\"fill:#1f78b4;stroke:#1f78b4;\"/>\r\n    <path clip-path=\"url(#p378ec177d9)\" d=\"M 38.439669 106.604056 \r\nC 40.736396 106.604056 42.939363 105.691557 44.563394 104.067526 \r\nC 46.187424 102.443495 47.099923 100.240528 47.099923 97.943802 \r\nC 47.099923 95.647075 46.187424 93.444108 44.563394 91.820077 \r\nC 42.939363 90.196047 40.736396 89.283548 38.439669 89.283548 \r\nC 36.142943 89.283548 33.939976 90.196047 32.315945 91.820077 \r\nC 30.691914 93.444108 29.779415 95.647075 29.779415 97.943802 \r\nC 29.779415 100.240528 30.691914 102.443495 32.315945 104.067526 \r\nC 33.939976 105.691557 36.142943 106.604056 38.439669 106.604056 \r\nz\r\n\" style=\"fill:#1f78b4;stroke:#1f78b4;\"/>\r\n    <path clip-path=\"url(#p378ec177d9)\" d=\"M 187.2 166.108188 \r\nC 189.496726 166.108188 191.699694 165.195689 193.323724 163.571658 \r\nC 194.947755 161.947628 195.860254 159.74466 195.860254 157.447934 \r\nC 195.860254 155.151208 194.947755 152.94824 193.323724 151.32421 \r\nC 191.699694 149.700179 189.496726 148.78768 187.2 148.78768 \r\nC 184.903274 148.78768 182.700306 149.700179 181.076276 151.32421 \r\nC 179.452245 152.94824 178.539746 155.151208 178.539746 157.447934 \r\nC 178.539746 159.74466 179.452245 161.947628 181.076276 163.571658 \r\nC 182.700306 165.195689 184.903274 166.108188 187.2 166.108188 \r\nz\r\n\" style=\"fill:#1f78b4;stroke:#1f78b4;\"/>\r\n    <path clip-path=\"url(#p378ec177d9)\" d=\"M 38.439669 166.108188 \r\nC 40.736396 166.108188 42.939363 165.195689 44.563394 163.571658 \r\nC 46.187424 161.947628 47.099923 159.74466 47.099923 157.447934 \r\nC 47.099923 155.151208 46.187424 152.94824 44.563394 151.32421 \r\nC 42.939363 149.700179 40.736396 148.78768 38.439669 148.78768 \r\nC 36.142943 148.78768 33.939976 149.700179 32.315945 151.32421 \r\nC 30.691914 152.94824 29.779415 155.151208 29.779415 157.447934 \r\nC 29.779415 159.74466 30.691914 161.947628 32.315945 163.571658 \r\nC 33.939976 165.195689 36.142943 166.108188 38.439669 166.108188 \r\nz\r\n\" style=\"fill:#1f78b4;stroke:#1f78b4;\"/>\r\n    <path clip-path=\"url(#p378ec177d9)\" d=\"M 187.2 225.61232 \r\nC 189.496726 225.61232 191.699694 224.699821 193.323724 223.07579 \r\nC 194.947755 221.45176 195.860254 219.248792 195.860254 216.952066 \r\nC 195.860254 214.65534 194.947755 212.452372 193.323724 210.828342 \r\nC 191.699694 209.204311 189.496726 208.291812 187.2 208.291812 \r\nC 184.903274 208.291812 182.700306 209.204311 181.076276 210.828342 \r\nC 179.452245 212.452372 178.539746 214.65534 178.539746 216.952066 \r\nC 178.539746 219.248792 179.452245 221.45176 181.076276 223.07579 \r\nC 182.700306 224.699821 184.903274 225.61232 187.2 225.61232 \r\nz\r\n\" style=\"fill:#1f78b4;stroke:#1f78b4;\"/>\r\n    <path clip-path=\"url(#p378ec177d9)\" d=\"M 38.439669 225.61232 \r\nC 40.736396 225.61232 42.939363 224.699821 44.563394 223.07579 \r\nC 46.187424 221.45176 47.099923 219.248792 47.099923 216.952066 \r\nC 47.099923 214.65534 46.187424 212.452372 44.563394 210.828342 \r\nC 42.939363 209.204311 40.736396 208.291812 38.439669 208.291812 \r\nC 36.142943 208.291812 33.939976 209.204311 32.315945 210.828342 \r\nC 30.691914 212.452372 29.779415 214.65534 29.779415 216.952066 \r\nC 29.779415 219.248792 30.691914 221.45176 32.315945 223.07579 \r\nC 33.939976 224.699821 36.142943 225.61232 38.439669 225.61232 \r\nz\r\n\" style=\"fill:#1f78b4;stroke:#1f78b4;\"/>\r\n    <path clip-path=\"url(#p378ec177d9)\" d=\"M 187.2 285.116452 \r\nC 189.496726 285.116452 191.699694 284.203953 193.323724 282.579923 \r\nC 194.947755 280.955892 195.860254 278.752925 195.860254 276.456198 \r\nC 195.860254 274.159472 194.947755 271.956505 193.323724 270.332474 \r\nC 191.699694 268.708443 189.496726 267.795944 187.2 267.795944 \r\nC 184.903274 267.795944 182.700306 268.708443 181.076276 270.332474 \r\nC 179.452245 271.956505 178.539746 274.159472 178.539746 276.456198 \r\nC 178.539746 278.752925 179.452245 280.955892 181.076276 282.579923 \r\nC 182.700306 284.203953 184.903274 285.116452 187.2 285.116452 \r\nz\r\n\" style=\"fill:#1f78b4;stroke:#1f78b4;\"/>\r\n    <path clip-path=\"url(#p378ec177d9)\" d=\"M 38.439669 285.116452 \r\nC 40.736396 285.116452 42.939363 284.203953 44.563394 282.579923 \r\nC 46.187424 280.955892 47.099923 278.752925 47.099923 276.456198 \r\nC 47.099923 274.159472 46.187424 271.956505 44.563394 270.332474 \r\nC 42.939363 268.708443 40.736396 267.795944 38.439669 267.795944 \r\nC 36.142943 267.795944 33.939976 268.708443 32.315945 270.332474 \r\nC 30.691914 271.956505 29.779415 274.159472 29.779415 276.456198 \r\nC 29.779415 278.752925 30.691914 280.955892 32.315945 282.579923 \r\nC 33.939976 284.203953 36.142943 285.116452 38.439669 285.116452 \r\nz\r\n\" style=\"fill:#1f78b4;stroke:#1f78b4;\"/>\r\n    <path clip-path=\"url(#p378ec177d9)\" d=\"M 38.439669 344.620585 \r\nC 40.736396 344.620585 42.939363 343.708086 44.563394 342.084055 \r\nC 46.187424 340.460024 47.099923 338.257057 47.099923 335.960331 \r\nC 47.099923 333.663604 46.187424 331.460637 44.563394 329.836606 \r\nC 42.939363 328.212576 40.736396 327.300077 38.439669 327.300077 \r\nC 36.142943 327.300077 33.939976 328.212576 32.315945 329.836606 \r\nC 30.691914 331.460637 29.779415 333.663604 29.779415 335.960331 \r\nC 29.779415 338.257057 30.691914 340.460024 32.315945 342.084055 \r\nC 33.939976 343.708086 36.142943 344.620585 38.439669 344.620585 \r\nz\r\n\" style=\"fill:#1f78b4;stroke:#1f78b4;\"/>\r\n    <path clip-path=\"url(#p378ec177d9)\" d=\"M 335.960331 157.447934 \r\nC 335.960331 157.447934 335.960331 157.447934 335.960331 157.447934 \r\nC 335.960331 157.447934 335.960331 157.447934 335.960331 157.447934 \r\nC 335.960331 157.447934 335.960331 157.447934 335.960331 157.447934 \r\nC 335.960331 157.447934 335.960331 157.447934 335.960331 157.447934 \r\nC 335.960331 157.447934 335.960331 157.447934 335.960331 157.447934 \r\nC 335.960331 157.447934 335.960331 157.447934 335.960331 157.447934 \r\nC 335.960331 157.447934 335.960331 157.447934 335.960331 157.447934 \r\nC 335.960331 157.447934 335.960331 157.447934 335.960331 157.447934 \r\nz\r\n\" style=\"fill:#1f78b4;stroke:#1f78b4;\"/>\r\n   </g>\r\n  </g>\r\n </g>\r\n <defs>\r\n  <clipPath id=\"p378ec177d9\">\r\n   <rect height=\"360\" width=\"360\" x=\"7.2\" y=\"7.2\"/>\r\n  </clipPath>\r\n </defs>\r\n</svg>\r\n",
      "image/png": "[encoded data removed]"
     },
     "metadata": {}
    }
   ],
   "source": [
    "draw('graphs/flow-9n.xml', width=None)"
   ]
  }
 ]
}