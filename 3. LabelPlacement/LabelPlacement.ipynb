{
  "nbformat": 4,
  "nbformat_minor": 0,
  "metadata": {
    "language_info": {
      "codemirror_mode": {
        "name": "ipython",
        "version": 3
      },
      "file_extension": ".py",
      "mimetype": "text/x-python",
      "name": "python",
      "nbconvert_exporter": "python",
      "pygments_lexer": "ipython3",
      "version": "3.8.0"
    },
    "orig_nbformat": 2,
    "kernelspec": {
      "name": "python38064bit342b2d62f7794dc18ccc35f134af38b3",
      "display_name": "Python 3.8.0 64-bit"
    },
    "metadata": {
      "interpreter": {
        "hash": "b3fff96ef30f268efca97f14f27ba604651971220bf1a4cce45e64f9bda5b6e4"
      }
    },
    "colab": {
      "name": "LabelPlacement.ipynb",
      "provenance": [],
      "collapsed_sections": []
    }
  },
  "cells": [
    {
      "cell_type": "markdown",
      "metadata": {
        "id": "oJ3C3XunbPx5"
      },
      "source": [
        "## Автор: Шкунков Арсений"
      ]
    },
    {
      "cell_type": "markdown",
      "metadata": {
        "id": "7phPd0FobV1p"
      },
      "source": [
        "Выражаю благодарность Игорю Дьяченко за примеры и парсер для них."
      ]
    },
    {
      "cell_type": "code",
      "metadata": {
        "colab": {
          "base_uri": "https://localhost:8080/"
        },
        "id": "AJqAcBJUaxqG",
        "outputId": "857b18ab-0333-4237-cdbf-95ef4585feb6"
      },
      "source": [
        "!git clone https://github.com/Ryzhtus/datavizmipt"
      ],
      "execution_count": 1,
      "outputs": [
        {
          "output_type": "stream",
          "text": [
            "Cloning into 'datavizmipt'...\n",
            "remote: Enumerating objects: 65, done.\u001b[K\n",
            "remote: Counting objects: 100% (65/65), done.\u001b[K\n",
            "remote: Compressing objects: 100% (40/40), done.\u001b[K\n",
            "remote: Total 65 (delta 29), reused 60 (delta 24), pack-reused 0\u001b[K\n",
            "Unpacking objects: 100% (65/65), done.\n"
          ],
          "name": "stdout"
        }
      ]
    },
    {
      "cell_type": "code",
      "metadata": {
        "colab": {
          "base_uri": "https://localhost:8080/"
        },
        "id": "gNVt-3brdjRC",
        "outputId": "788f8f96-c7a7-48d5-db7b-b26b7b32c853"
      },
      "source": [
        "!pip install python-sat"
      ],
      "execution_count": 2,
      "outputs": [
        {
          "output_type": "stream",
          "text": [
            "Collecting python-sat\n",
            "\u001b[?25l  Downloading https://files.pythonhosted.org/packages/6f/1b/647b6410c146f53c540ff4eb27b83334ae2aa0e8f17df8293cb265f15ff1/python_sat-0.1.7.dev2-cp37-cp37m-manylinux2010_x86_64.whl (1.8MB)\n",
            "\u001b[K     |████████████████████████████████| 1.8MB 14.0MB/s \n",
            "\u001b[?25hRequirement already satisfied: six in /usr/local/lib/python3.7/dist-packages (from python-sat) (1.15.0)\n",
            "Installing collected packages: python-sat\n",
            "Successfully installed python-sat-0.1.7.dev2\n"
          ],
          "name": "stdout"
        }
      ]
    },
    {
      "cell_type": "code",
      "metadata": {
        "id": "_pkGxClrdgBU"
      },
      "source": [
        "import matplotlib.patches as patches\n",
        "import matplotlib.pyplot as plt\n",
        "import numpy as np\n",
        "\n",
        "from itertools import combinations, chain\n",
        "from pysat.solvers import Solver"
      ],
      "execution_count": 3,
      "outputs": []
    },
    {
      "cell_type": "code",
      "metadata": {
        "id": "xPdN0hjNdgBd"
      },
      "source": [
        "class Pos:\n",
        "    def __init__(self, *arr):\n",
        "        assert len(arr) == 2\n",
        "        self.xy = arr\n",
        "    \n",
        "    def __add__(self, that):\n",
        "        return Pos(*[a + b for a, b in zip(self.xy, that.xy)])\n",
        "    \n",
        "    def __sub__(self, that):\n",
        "        return Pos(*[a - b for a, b in zip(self.xy, that.xy)])\n",
        "    \n",
        "    def __neg__(self):\n",
        "        return Pos(*[-a for a in self.xy])\n",
        "    \n",
        "    def __str__(self):\n",
        "        return str(self.xy)\n",
        "    \n",
        "    def __repr__(self):\n",
        "        return str(self)\n",
        "    \n",
        "    def parse(s):\n",
        "        arr = [int(a) for a in s.split(',')]\n",
        "        return Pos(*arr)\n",
        "\n",
        "class Box:\n",
        "    def __init__(self, line, idx):\n",
        "        arr = line.split('\\t')\n",
        "        self.box_id = idx\n",
        "        self.pos = Pos.parse(arr[0])\n",
        "        self.size = Pos.parse(arr[1])\n",
        "        self.offsets = [Pos.parse(pos) for pos in arr[2].split(' ')]\n",
        "        self.offset_ids = [self.box_id + idx + 1 for idx in range(len(self.offsets))]\n",
        "        self.id2offset = {idx: offset for idx, offset in zip(self.offset_ids, self.offsets)}\n",
        "        assert len(self.offsets) > 0\n",
        "\n",
        "    def __str__(self):\n",
        "        return 'Box(id={}, pos={}, size={}, offsets={}, ids={})'.format(self.box_id, self.pos, self.size, self.offsets, self.offset_ids)\n",
        "    \n",
        "    def __repr__(self):\n",
        "        return str(self)\n",
        "\n",
        "    def make_condictions_for_box(self):\n",
        "        conditions = []\n",
        "        possible_combinations = [0] + [idx for idx in range(2, len(self.offset_ids) + 1)]\n",
        "        subsets = chain.from_iterable(combinations([idx for idx in range(len(self.offset_ids))], combination) for combination in possible_combinations)\n",
        "        for subset in subsets:\n",
        "            conditions.append([-x if idx in subset else x for idx, x in enumerate(self.offset_ids)])\n",
        "            \n",
        "        return conditions\n",
        "\n",
        "class Bound:\n",
        "    def __init__(self, pos, size):\n",
        "        self.x = pos[0]\n",
        "        self.y = pos[1]\n",
        "        self.width = size[0]\n",
        "        self.height = size[1]\n",
        "        self.bottom_left_x = self.x\n",
        "        self.bottom_left_y = self.y\n",
        "        self.top_right_x = self.x + self.width\n",
        "        self.top_right_y = self.y + self.height\n",
        "\n",
        "    def __repr__(self):\n",
        "        return 'Bound(pos={}, size={}, bottom_left={}, top_right={}'.format((self.x, self.y), (self.width, self.height), (self.bottom_left_x, self.bottom_left_y), (self.top_right_x, self.top_right_y))"
      ],
      "execution_count": 4,
      "outputs": []
    },
    {
      "cell_type": "code",
      "metadata": {
        "id": "wRDbUF8JNJ54"
      },
      "source": [
        "def calculate_box_parameters(box, offset_id=None):\n",
        "    if offset_id:\n",
        "        coordinates = (box.pos.xy[0] - box.id2offset[offset_id].xy[0], box.pos.xy[1] - box.id2offset[offset_id].xy[1])\n",
        "        return Bound(coordinates, box.size.xy)\n",
        "    else:\n",
        "        return Bound(box.pos.xy, box.size.xy)\n",
        "\n",
        "def check_intersection(box_a: Bound, box_b: Bound):\n",
        "    return (box_a.top_right_x < box_b.bottom_left_x\n",
        "                or box_a.bottom_left_x > box_b.top_right_x\n",
        "                or box_a.top_right_y < box_b.bottom_left_y\n",
        "                or box_a.bottom_left_y > box_b.top_right_y)\n",
        "\n",
        "def make_conditions_for_intersections(boxes):\n",
        "    conditions = []\n",
        "\n",
        "    for i in range(len(boxes) - 1):\n",
        "        for j in range(i + 1, len(boxes)):\n",
        "            for offset_i in range(len(boxes[i].offset_ids)):\n",
        "                condition = [-boxes[i].offset_ids[offset_i]]\n",
        "                for offset_j in range(len(boxes[j].offset_ids)):\n",
        "                    bounds_i = calculate_box_parameters(boxes[i], offset_id=boxes[i].offset_ids[offset_i])\n",
        "                    bounds_j = calculate_box_parameters(boxes[j], offset_id=boxes[j].offset_ids[offset_j])\n",
        "                    if check_intersection(bounds_i, bounds_j):\n",
        "                        condition.append(boxes[j].offset_ids[offset_j])\n",
        "\n",
        "                if len(condition) < len(boxes[j].offset_ids) + 1:\n",
        "                    conditions.append(condition)\n",
        "\n",
        "    return conditions\n",
        "\n",
        "def collect_conditions(boxes):\n",
        "    conditions = []\n",
        "\n",
        "    # кодируем 1 положение прямоугольника в каждом из возможных вариантов его расположений\n",
        "    for box in boxes:\n",
        "        conditions += box.make_condictions_for_box()\n",
        "\n",
        "    # кодируем позиции относительно пересечений прямоугольника с другими\n",
        "    conditions += make_conditions_for_intersections(boxes)\n",
        "\n",
        "    return conditions\n",
        "\n",
        "def draw(boxes: Box) -> None:\n",
        "    px = 1/plt.rcParams['figure.dpi']\n",
        "    plt.figure(figsize=(500*px, 500*px))\n",
        "    \n",
        "    ax = plt.gca()\n",
        "    \n",
        "    x, y = [], []\n",
        "    for box in boxes: \n",
        "        x.append(box.pos.xy[0])\n",
        "        y.append(box.pos.xy[1])\n",
        "    \n",
        "    ax.scatter(x, y)\n",
        "\n",
        "    for idx, box in enumerate(boxes):\n",
        "        ax.add_patch(patches.Rectangle(box.pos.xy, box.size.xy[0], box.size.xy[1], edgecolor='black'))\n",
        "\n",
        "    plt.axis('off')\n",
        "    plt.show()"
      ],
      "execution_count": 5,
      "outputs": []
    },
    {
      "cell_type": "code",
      "metadata": {
        "id": "TCc16U2zdgBe"
      },
      "source": [
        "with open('/content/datavizmipt/3. LabelPlacement/examples/hard1.txt', 'r') as file:\n",
        "    idx = 0\n",
        "    boxes = []\n",
        "    offset2box = {}\n",
        "    for line in file.readlines():\n",
        "        box = Box(line, idx)\n",
        "        boxes.append(box)\n",
        "        idx_end = max(box.offset_ids)\n",
        "        for i in range(idx + 1, idx_end + 1):\n",
        "            offset2box[i] = idx\n",
        "        idx = idx_end + 1\n",
        "        \n",
        "    id2box = {box.box_id: idx for idx, box in enumerate(boxes)}"
      ],
      "execution_count": 6,
      "outputs": []
    },
    {
      "cell_type": "code",
      "metadata": {
        "colab": {
          "base_uri": "https://localhost:8080/",
          "height": 408
        },
        "id": "A4kbmpV0Jcca",
        "outputId": "772d7af6-01af-4298-fe5c-04718dd328a6"
      },
      "source": [
        "solver = Solver()\n",
        "conditions = collect_conditions(boxes)\n",
        "\n",
        "for condition in conditions:\n",
        "    solver.add_clause(condition)\n",
        "\n",
        "if solver.solve() == True:\n",
        "    solution = np.array(solver.get_model())\n",
        "\n",
        "    placement = []\n",
        "    for idx in solution[solution > 0]:\n",
        "        box = boxes[id2box[offset2box[idx]]]\n",
        "        box.pos -= boxes[id2box[offset2box[idx]]].id2offset[idx]\n",
        "        placement.append(box)\n",
        "\n",
        "    draw(placement)\n",
        "\n",
        "else:\n",
        "    print('Нет решения')"
      ],
      "execution_count": 7,
      "outputs": [
        {
          "output_type": "display_data",
          "data": {
            "image/png": "[encoded data removed]",
            "text/plain": [
              "<Figure size 500x500 with 1 Axes>"
            ]
          },
          "metadata": {
            "tags": [],
            "needs_background": "light"
          }
        }
      ]
    }
  ]
}